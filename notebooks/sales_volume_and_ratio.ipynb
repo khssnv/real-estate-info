{
 "cells": [
  {
   "cell_type": "code",
   "execution_count": null,
   "metadata": {},
   "outputs": [],
   "source": [
    "import http"
   ]
  },
  {
   "cell_type": "code",
   "execution_count": null,
   "metadata": {},
   "outputs": [],
   "source": [
    "conn = http.client.HTTPSConnection(\"data.ct.gov\")\n",
    "conn.request(\"GET\", \"/resource/5mzw-sjtu.json?$limit=930621&$offset=0&$order=serialnumber\")\n",
    "resp = conn.getresponse()\n",
    "data = resp.read().decode()\n",
    "conn.close()"
   ]
  },
  {
   "cell_type": "code",
   "execution_count": null,
   "metadata": {},
   "outputs": [],
   "source": [
    "with open(\"dataset.txt\", \"w\") as fd:\n",
    "    fd.write(data)"
   ]
  },
  {
   "cell_type": "code",
   "execution_count": null,
   "metadata": {},
   "outputs": [],
   "source": [
    "import json"
   ]
  },
  {
   "cell_type": "code",
   "execution_count": null,
   "metadata": {},
   "outputs": [],
   "source": [
    "transactions = json.loads(data)\n",
    "# transactions[0]"
   ]
  },
  {
   "cell_type": "code",
   "execution_count": null,
   "metadata": {},
   "outputs": [],
   "source": [
    "import pandas as pd"
   ]
  },
  {
   "cell_type": "code",
   "execution_count": null,
   "metadata": {},
   "outputs": [],
   "source": [
    "transactions_df = pd.read_json(data)\n",
    "transactions_df"
   ]
  },
  {
   "cell_type": "code",
   "execution_count": null,
   "metadata": {},
   "outputs": [],
   "source": [
    "transactions_df.info()"
   ]
  },
  {
   "cell_type": "code",
   "execution_count": null,
   "metadata": {},
   "outputs": [],
   "source": [
    "# Sales volume\n",
    "# ============\n",
    "sales_volume_df = (\n",
    "    transactions_df[[\"town\", \"listyear\", \"saleamount\"]]\n",
    "    .groupby([\"town\", \"listyear\"])\n",
    "    .sum()\n",
    "    .sort_values(by=\"saleamount\", ascending=False)\n",
    ")\n",
    "sales_volume_df"
   ]
  },
  {
   "cell_type": "code",
   "execution_count": null,
   "metadata": {},
   "outputs": [],
   "source": [
    "# Sales ratio\n",
    "# ============\n",
    "import numpy as np\n",
    "\n",
    "sales_ratio_df = (\n",
    "    transactions_df[[\"town\", \"listyear\", \"salesratio\"]]\n",
    "    .groupby([\"town\", \"listyear\"])\n",
    "    .aggregate(np.average)\n",
    "    .sort_values(by=\"salesratio\", ascending=False)\n",
    ")\n",
    "sales_ratio_df"
   ]
  }
 ],
 "metadata": {
  "kernelspec": {
   "display_name": "Python 3.10.6 ('real-estate-info-eBr1gGbA-py3.10')",
   "language": "python",
   "name": "python3"
  },
  "language_info": {
   "codemirror_mode": {
    "name": "ipython",
    "version": 3
   },
   "file_extension": ".py",
   "mimetype": "text/x-python",
   "name": "python",
   "nbconvert_exporter": "python",
   "pygments_lexer": "ipython3",
   "version": "3.10.6"
  },
  "orig_nbformat": 4,
  "vscode": {
   "interpreter": {
    "hash": "293342748163a5c1e4145a97e31831f5d38d206ee43253012822f22907d60a8d"
   }
  }
 },
 "nbformat": 4,
 "nbformat_minor": 2
}
