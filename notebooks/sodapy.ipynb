{
 "cells": [
  {
   "cell_type": "code",
   "execution_count": null,
   "metadata": {},
   "outputs": [],
   "source": [
    "%load_ext dotenv\n",
    "%dotenv\n",
    "\n",
    "import os\n",
    "from sodapy import Socrata"
   ]
  },
  {
   "cell_type": "code",
   "execution_count": null,
   "metadata": {},
   "outputs": [],
   "source": [
    "# Print URL\n",
    "\n",
    "import requests\n",
    "import logging\n",
    "import http.client\n",
    "\n",
    "http.client.HTTPConnection.debuglevel = 1\n",
    "\n",
    "logging.basicConfig()\n",
    "logging.getLogger().setLevel(logging.DEBUG)\n",
    "requests_log = logging.getLogger(\"requests.packages.urllib3\")\n",
    "requests_log.setLevel(logging.DEBUG)\n",
    "requests_log.propagate = True"
   ]
  },
  {
   "cell_type": "code",
   "execution_count": null,
   "metadata": {},
   "outputs": [],
   "source": [
    "client = Socrata(\n",
    "    os.environ[\"SOCRATA_DOMAIN\"],\n",
    "    os.environ[\"SOCRATA_APP_TOKEN\"],\n",
    "    username=os.environ[\"SOCRATA_API_KEY_ID\"],\n",
    "    password=os.environ[\"SOCRATA_API_KEY_SECRET\"],\n",
    "    timeout=60,\n",
    ")"
   ]
  },
  {
   "cell_type": "code",
   "execution_count": null,
   "metadata": {},
   "outputs": [],
   "source": [
    "metadata = client.get_metadata(os.environ[\"DATASET_ID\"])\n",
    "[(col[\"name\"], col[\"fieldName\"], col[\"dataTypeName\"]) for col in metadata[\"columns\"]]"
   ]
  },
  {
   "cell_type": "code",
   "execution_count": null,
   "metadata": {},
   "outputs": [],
   "source": [
    "dataset = client.get(\n",
    "    os.environ[\"DATASET_ID\"],\n",
    "    select=\"town, listyear, saleamount, salesratio\",\n",
    ")\n",
    "dataset"
   ]
  },
  {
   "cell_type": "code",
   "execution_count": null,
   "metadata": {},
   "outputs": [],
   "source": [
    "query = \"\"\"\n",
    "select count(*)\n",
    "\"\"\"\n",
    "resp = client.get(\n",
    "    os.environ[\"DATASET_ID\"],\n",
    "    query=query,\n",
    ")\n",
    "total_items = int(resp[0][\"count\"])\n",
    "total_items"
   ]
  },
  {
   "cell_type": "code",
   "execution_count": null,
   "metadata": {},
   "outputs": [],
   "source": [
    "query = \"\"\"\n",
    "select distinct listyear\n",
    "\"\"\"\n",
    "resp = client.get(\n",
    "    os.environ[\"DATASET_ID\"],\n",
    "    query=query,\n",
    ")\n",
    "years = sorted([item[\"listyear\"] for item in resp])\n",
    "years"
   ]
  },
  {
   "cell_type": "code",
   "execution_count": null,
   "metadata": {},
   "outputs": [],
   "source": [
    "# Sales volume\n",
    "# ============\n",
    "year = years[-1]\n",
    "query = f\"\"\"\n",
    "select town, count(serialnumber), sum(saleamount) as salesvolume\n",
    "where listyear = {year}\n",
    "group by town\n",
    "order by salesvolume desc\n",
    "limit 10\n",
    "\"\"\"\n",
    "resp = client.get(\n",
    "    os.environ[\"DATASET_ID\"],\n",
    "    query=query,\n",
    ")\n",
    "resp"
   ]
  },
  {
   "cell_type": "code",
   "execution_count": null,
   "metadata": {},
   "outputs": [],
   "source": [
    "# Sales ratio SoQL\n",
    "# ================\n",
    "year = years[-1]\n",
    "query = f\"\"\"\n",
    "select town, avg(cast(salesratio as number)) as salesratioavg\n",
    "where listyear = {year}\n",
    "order by salesratio desc\n",
    "limit 10\n",
    "\"\"\"\n",
    "resp = client.get(\n",
    "    os.environ[\"DATASET_ID\"],\n",
    "    query=query,\n",
    ")\n",
    "resp"
   ]
  },
  {
   "cell_type": "code",
   "execution_count": null,
   "metadata": {},
   "outputs": [],
   "source": [
    "# Sales ratio pandas\n",
    "# ==================\n",
    "import pandas as pd\n",
    "import numpy as np\n",
    "\n",
    "year = years[-1]\n",
    "query = f\"\"\"\n",
    "select count(*)\n",
    "where listyear = {year}\n",
    "\"\"\"\n",
    "resp = client.get(\n",
    "    os.environ[\"DATASET_ID\"],\n",
    "    query=query,\n",
    ")\n",
    "total_items = int(resp[0][\"count\"])\n",
    "page_size = 1000\n",
    "pages = total_items // page_size + 1 if total_items % page_size else 0\n",
    "\n",
    "rows = []\n",
    "\n",
    "for page_number in range(pages):\n",
    "    query = f\"\"\"\n",
    "    select town, salesratio\n",
    "    where listyear = {year}\n",
    "    order by serialnumber\n",
    "    offset {page_number * page_size}\n",
    "    limit {page_size}\n",
    "    \"\"\"\n",
    "    resp = client.get(\n",
    "        os.environ[\"DATASET_ID\"],\n",
    "        query=query,\n",
    "    )\n",
    "    rows.extend(resp)\n",
    "df = pd.DataFrame.from_records(rows)\n",
    "df[\"salesratio\"] = pd.to_numeric(df.salesratio)\n",
    "df.groupby(\"town\").agg(np.average).sort_values(by=\"salesratio\", ascending=False)[:10]\n"
   ]
  },
  {
   "cell_type": "code",
   "execution_count": null,
   "metadata": {},
   "outputs": [],
   "source": [
    "df2 = df.groupby(\"town\").agg(np.average).sort_values(by=\"salesratio\", ascending=False)[:10]\n",
    "df2.reset_index().values.tolist()"
   ]
  }
 ],
 "metadata": {
  "kernelspec": {
   "display_name": "Python 3.10.6 ('real-estate-info-eBr1gGbA-py3.10')",
   "language": "python",
   "name": "python3"
  },
  "language_info": {
   "codemirror_mode": {
    "name": "ipython",
    "version": 3
   },
   "file_extension": ".py",
   "mimetype": "text/x-python",
   "name": "python",
   "nbconvert_exporter": "python",
   "pygments_lexer": "ipython3",
   "version": "3.10.6"
  },
  "orig_nbformat": 4,
  "vscode": {
   "interpreter": {
    "hash": "293342748163a5c1e4145a97e31831f5d38d206ee43253012822f22907d60a8d"
   }
  }
 },
 "nbformat": 4,
 "nbformat_minor": 2
}
